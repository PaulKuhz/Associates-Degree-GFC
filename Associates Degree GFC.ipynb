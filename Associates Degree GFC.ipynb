{
 "cells": [
  {
   "cell_type": "markdown",
   "id": "0b85bc8a",
   "metadata": {},
   "source": [
    "# Libraries"
   ]
  },
  {
   "cell_type": "code",
   "execution_count": 1,
   "id": "0487b0d6",
   "metadata": {},
   "outputs": [],
   "source": [
    "from IPython.display import display\n",
    "import numpy as np\n",
    "import pandas as pd\n",
    "import matplotlib.pyplot as plt\n",
    "import seaborn as sns"
   ]
  },
  {
   "cell_type": "markdown",
   "id": "503c5c36",
   "metadata": {},
   "source": [
    "# Load IPUMS data"
   ]
  },
  {
   "cell_type": "code",
   "execution_count": 3,
   "id": "1641c8b7",
   "metadata": {
    "scrolled": true
   },
   "outputs": [
    {
     "data": {
      "text/plain": [
       "{'year': 'census year',\n",
       " 'sample': 'ipums sample identifier',\n",
       " 'serial': 'household serial number',\n",
       " 'cbserial': 'original census bureau household serial number',\n",
       " 'hhwt': 'household weight',\n",
       " 'cluster': 'household cluster for variance estimation',\n",
       " 'statefip': 'state (fips code)',\n",
       " 'puma': 'public use microdata area',\n",
       " 'strata': 'household strata for variance estimation',\n",
       " 'gq': 'group quarters status',\n",
       " 'pernum': 'person number in sample unit',\n",
       " 'perwt': 'person weight',\n",
       " 'famsize': 'number of own family members in household',\n",
       " 'sex': 'sex',\n",
       " 'age': 'age',\n",
       " 'race': 'race [general version]',\n",
       " 'raced': 'race [detailed version]',\n",
       " 'bpl': 'birthplace [general version]',\n",
       " 'bpld': 'birthplace [detailed version]',\n",
       " 'citizen': 'citizenship status',\n",
       " 'educ': 'educational attainment [general version]',\n",
       " 'educd': 'educational attainment [detailed version]',\n",
       " 'empstat': 'employment status [general version]',\n",
       " 'empstatd': 'employment status [detailed version]',\n",
       " 'ind1990': 'industry, 1990 basis',\n",
       " 'wkswork2': 'weeks worked last year, intervalled',\n",
       " 'uhrswork': 'usual hours worked per week',\n",
       " 'ftotinc': 'total family income',\n",
       " 'incwage': 'wage and salary income',\n",
       " 'bpl_mom': \"birthplace [of mother's location in the household; general version]\",\n",
       " 'bpl_pop': \"birthplace [of father's location in the household; general version]\",\n",
       " 'bpl_mom2': \"birthplace [of second mother's location in the household; general version]\",\n",
       " 'bpl_pop2': \"birthplace [of second father's location in the household; general version]\",\n",
       " 'bpld_mom': \"birthplace [of mother's location in the household; detailed version]\",\n",
       " 'bpld_pop': \"birthplace [of father's location in the household; detailed version]\",\n",
       " 'bpld_mom2': \"birthplace [of second mother's location in the household; detailed version]\",\n",
       " 'bpld_pop2': \"birthplace [of second father's location in the household; detailed version]\",\n",
       " 'incwage_mom': \"wage and salary income [of mother's location in the household]\",\n",
       " 'incwage_pop': \"wage and salary income [of father's location in the household]\",\n",
       " 'incwage_mom2': \"wage and salary income [of second mother's location in the household]\",\n",
       " 'incwage_pop2': \"wage and salary income [of second father's location in the household]\"}"
      ]
     },
     "metadata": {},
     "output_type": "display_data"
    }
   ],
   "source": [
    "ipums_labels = pd.read_stata( 'usa_00004.dta', iterator = True).variable_labels()\n",
    "display(ipums_labels)"
   ]
  },
  {
   "cell_type": "code",
   "execution_count": 3,
   "id": "08a525a7",
   "metadata": {},
   "outputs": [
    {
     "data": {
      "text/html": [
       "<div>\n",
       "<style scoped>\n",
       "    .dataframe tbody tr th:only-of-type {\n",
       "        vertical-align: middle;\n",
       "    }\n",
       "\n",
       "    .dataframe tbody tr th {\n",
       "        vertical-align: top;\n",
       "    }\n",
       "\n",
       "    .dataframe thead th {\n",
       "        text-align: right;\n",
       "    }\n",
       "</style>\n",
       "<table border=\"1\" class=\"dataframe\">\n",
       "  <thead>\n",
       "    <tr style=\"text-align: right;\">\n",
       "      <th></th>\n",
       "      <th>year</th>\n",
       "      <th>sample</th>\n",
       "      <th>serial</th>\n",
       "      <th>cbserial</th>\n",
       "      <th>hhwt</th>\n",
       "      <th>cluster</th>\n",
       "      <th>statefip</th>\n",
       "      <th>puma</th>\n",
       "      <th>strata</th>\n",
       "      <th>gq</th>\n",
       "      <th>...</th>\n",
       "      <th>bpl_mom2</th>\n",
       "      <th>bpl_pop2</th>\n",
       "      <th>bpld_mom</th>\n",
       "      <th>bpld_pop</th>\n",
       "      <th>bpld_mom2</th>\n",
       "      <th>bpld_pop2</th>\n",
       "      <th>incwage_mom</th>\n",
       "      <th>incwage_pop</th>\n",
       "      <th>incwage_mom2</th>\n",
       "      <th>incwage_pop2</th>\n",
       "    </tr>\n",
       "  </thead>\n",
       "  <tbody>\n",
       "    <tr>\n",
       "      <th>0</th>\n",
       "      <td>2000</td>\n",
       "      <td>200004</td>\n",
       "      <td>1</td>\n",
       "      <td>NaN</td>\n",
       "      <td>600.0</td>\n",
       "      <td>2.000000e+12</td>\n",
       "      <td>17</td>\n",
       "      <td>NaN</td>\n",
       "      <td>17</td>\n",
       "      <td>1</td>\n",
       "      <td>...</td>\n",
       "      <td>NaN</td>\n",
       "      <td>NaN</td>\n",
       "      <td>1700.0</td>\n",
       "      <td>NaN</td>\n",
       "      <td>NaN</td>\n",
       "      <td>NaN</td>\n",
       "      <td>4000.0</td>\n",
       "      <td>NaN</td>\n",
       "      <td>NaN</td>\n",
       "      <td>NaN</td>\n",
       "    </tr>\n",
       "    <tr>\n",
       "      <th>1</th>\n",
       "      <td>2000</td>\n",
       "      <td>200004</td>\n",
       "      <td>2</td>\n",
       "      <td>NaN</td>\n",
       "      <td>600.0</td>\n",
       "      <td>2.000000e+12</td>\n",
       "      <td>48</td>\n",
       "      <td>NaN</td>\n",
       "      <td>48</td>\n",
       "      <td>1</td>\n",
       "      <td>...</td>\n",
       "      <td>NaN</td>\n",
       "      <td>NaN</td>\n",
       "      <td>NaN</td>\n",
       "      <td>NaN</td>\n",
       "      <td>NaN</td>\n",
       "      <td>NaN</td>\n",
       "      <td>NaN</td>\n",
       "      <td>NaN</td>\n",
       "      <td>NaN</td>\n",
       "      <td>NaN</td>\n",
       "    </tr>\n",
       "    <tr>\n",
       "      <th>2</th>\n",
       "      <td>2000</td>\n",
       "      <td>200004</td>\n",
       "      <td>2</td>\n",
       "      <td>NaN</td>\n",
       "      <td>600.0</td>\n",
       "      <td>2.000000e+12</td>\n",
       "      <td>48</td>\n",
       "      <td>NaN</td>\n",
       "      <td>48</td>\n",
       "      <td>1</td>\n",
       "      <td>...</td>\n",
       "      <td>NaN</td>\n",
       "      <td>NaN</td>\n",
       "      <td>NaN</td>\n",
       "      <td>NaN</td>\n",
       "      <td>NaN</td>\n",
       "      <td>NaN</td>\n",
       "      <td>NaN</td>\n",
       "      <td>NaN</td>\n",
       "      <td>NaN</td>\n",
       "      <td>NaN</td>\n",
       "    </tr>\n",
       "    <tr>\n",
       "      <th>3</th>\n",
       "      <td>2000</td>\n",
       "      <td>200004</td>\n",
       "      <td>2</td>\n",
       "      <td>NaN</td>\n",
       "      <td>600.0</td>\n",
       "      <td>2.000000e+12</td>\n",
       "      <td>48</td>\n",
       "      <td>NaN</td>\n",
       "      <td>48</td>\n",
       "      <td>1</td>\n",
       "      <td>...</td>\n",
       "      <td>NaN</td>\n",
       "      <td>NaN</td>\n",
       "      <td>4800.0</td>\n",
       "      <td>4800.0</td>\n",
       "      <td>NaN</td>\n",
       "      <td>NaN</td>\n",
       "      <td>900.0</td>\n",
       "      <td>54000.0</td>\n",
       "      <td>NaN</td>\n",
       "      <td>NaN</td>\n",
       "    </tr>\n",
       "    <tr>\n",
       "      <th>4</th>\n",
       "      <td>2000</td>\n",
       "      <td>200004</td>\n",
       "      <td>2</td>\n",
       "      <td>NaN</td>\n",
       "      <td>600.0</td>\n",
       "      <td>2.000000e+12</td>\n",
       "      <td>48</td>\n",
       "      <td>NaN</td>\n",
       "      <td>48</td>\n",
       "      <td>1</td>\n",
       "      <td>...</td>\n",
       "      <td>NaN</td>\n",
       "      <td>NaN</td>\n",
       "      <td>4800.0</td>\n",
       "      <td>4800.0</td>\n",
       "      <td>NaN</td>\n",
       "      <td>NaN</td>\n",
       "      <td>900.0</td>\n",
       "      <td>54000.0</td>\n",
       "      <td>NaN</td>\n",
       "      <td>NaN</td>\n",
       "    </tr>\n",
       "  </tbody>\n",
       "</table>\n",
       "<p>5 rows × 41 columns</p>\n",
       "</div>"
      ],
      "text/plain": [
       "   year  sample  serial  cbserial   hhwt       cluster  statefip  puma  \\\n",
       "0  2000  200004       1       NaN  600.0  2.000000e+12        17   NaN   \n",
       "1  2000  200004       2       NaN  600.0  2.000000e+12        48   NaN   \n",
       "2  2000  200004       2       NaN  600.0  2.000000e+12        48   NaN   \n",
       "3  2000  200004       2       NaN  600.0  2.000000e+12        48   NaN   \n",
       "4  2000  200004       2       NaN  600.0  2.000000e+12        48   NaN   \n",
       "\n",
       "   strata  gq  ...  bpl_mom2  bpl_pop2  bpld_mom  bpld_pop  bpld_mom2  \\\n",
       "0      17   1  ...       NaN       NaN    1700.0       NaN        NaN   \n",
       "1      48   1  ...       NaN       NaN       NaN       NaN        NaN   \n",
       "2      48   1  ...       NaN       NaN       NaN       NaN        NaN   \n",
       "3      48   1  ...       NaN       NaN    4800.0    4800.0        NaN   \n",
       "4      48   1  ...       NaN       NaN    4800.0    4800.0        NaN   \n",
       "\n",
       "   bpld_pop2  incwage_mom  incwage_pop  incwage_mom2  incwage_pop2  \n",
       "0        NaN       4000.0          NaN           NaN           NaN  \n",
       "1        NaN          NaN          NaN           NaN           NaN  \n",
       "2        NaN          NaN          NaN           NaN           NaN  \n",
       "3        NaN        900.0      54000.0           NaN           NaN  \n",
       "4        NaN        900.0      54000.0           NaN           NaN  \n",
       "\n",
       "[5 rows x 41 columns]"
      ]
     },
     "execution_count": 3,
     "metadata": {},
     "output_type": "execute_result"
    }
   ],
   "source": [
    "df = pd.read_stata( 'usa_00004.dta', convert_categoricals=False)\n",
    "df.head()"
   ]
  },
  {
   "cell_type": "markdown",
   "id": "5a4cef51",
   "metadata": {},
   "source": [
    "# Create additional variable for controls"
   ]
  },
  {
   "cell_type": "code",
   "execution_count": 4,
   "id": "79846d83",
   "metadata": {},
   "outputs": [],
   "source": [
    "#Transform sex variable into a binary\n",
    "#Note, 0 is male 1 and female\n",
    "df[\"sex\"] = df[\"sex\"]-1 #minus 1 since the data is just 1 and 2"
   ]
  },
  {
   "cell_type": "markdown",
   "id": "9cf05f0e",
   "metadata": {},
   "source": [
    "# Create Education Bins"
   ]
  },
  {
   "cell_type": "code",
   "execution_count": 5,
   "id": "c61148d9",
   "metadata": {
    "scrolled": true
   },
   "outputs": [],
   "source": [
    "# Intervals\n",
    "df[\"educbin\"] = pd.cut(df.educd, \n",
    "                       bins = [-1, 1, # Missing 1\n",
    "                               61, # Didn't Finish K-12\n",
    "                               80, # Finished HS/College Dropout 1\n",
    "                               83, # Associate's Degree\n",
    "                               100, # # Finished HS/College Dropout 2\n",
    "                               101, # Bachelor's Degree\n",
    "                               113, # Finished HS/College Dropout 3\n",
    "                               116, # Advanced Degree\n",
    "                               999], labels = False) # Missing 2\n",
    "\n",
    "# Create Strings\n",
    "educ_nums = [i for i in range(9)]\n",
    "educ_str = [np.nan, \"K-12 Dropout\", \"HS Diploma/GED\", \"Associates\",\n",
    "            \"HS Diploma/GED\", \"Bachelors\",\"HS Diploma/GED\",\n",
    "            \"Advanced\", np.nan]\n",
    "educ_df = pd.DataFrame({'educbin':educ_nums, 'educstr':educ_str})\n",
    "\n",
    "# Concatenate education \"strings\" to dataframe\n",
    "df = df.merge(educ_df, how = 'left', on = 'educbin')\n",
    "\n",
    "# Remove people with less than high school diploma\n",
    "df = df[df['educbin'] != 1]"
   ]
  },
  {
   "cell_type": "markdown",
   "id": "15431237",
   "metadata": {},
   "source": [
    "# Plots"
   ]
  },
  {
   "cell_type": "code",
   "execution_count": 6,
   "id": "ae2cb211",
   "metadata": {},
   "outputs": [
    {
     "name": "stdout",
     "output_type": "stream",
     "text": [
      "Number of people in each education category\n"
     ]
    },
    {
     "data": {
      "image/png": "[encoded data removed]",
      "text/plain": [
       "<Figure size 432x288 with 1 Axes>"
      ]
     },
     "metadata": {
      "needs_background": "light"
     },
     "output_type": "display_data"
    }
   ],
   "source": [
    "print(\"Number of people in each education category\")\n",
    "sns.countplot(x = df['educstr']);"
   ]
  },
  {
   "cell_type": "code",
   "execution_count": 7,
   "id": "fab473e6",
   "metadata": {},
   "outputs": [
    {
     "name": "stdout",
     "output_type": "stream",
     "text": [
      "Income quartile by education category\n"
     ]
    },
    {
     "data": {
      "image/png": "[encoded data removed]",
      "text/plain": [
       "<Figure size 432x288 with 1 Axes>"
      ]
     },
     "metadata": {
      "needs_background": "light"
     },
     "output_type": "display_data"
    }
   ],
   "source": [
    "print(\"Income quartile by education category\")\n",
    "sns.boxplot(y = 'incwage', x = 'educstr', data = df,\n",
    "            showfliers = False);"
   ]
  },
  {
   "cell_type": "code",
   "execution_count": 8,
   "id": "9643fd5e",
   "metadata": {
    "scrolled": true
   },
   "outputs": [
    {
     "name": "stdout",
     "output_type": "stream",
     "text": [
      "Median wage by year/education level\n"
     ]
    },
    {
     "data": {
      "text/html": [
       "<div>\n",
       "<style scoped>\n",
       "    .dataframe tbody tr th:only-of-type {\n",
       "        vertical-align: middle;\n",
       "    }\n",
       "\n",
       "    .dataframe tbody tr th {\n",
       "        vertical-align: top;\n",
       "    }\n",
       "\n",
       "    .dataframe thead th {\n",
       "        text-align: right;\n",
       "    }\n",
       "</style>\n",
       "<table border=\"1\" class=\"dataframe\">\n",
       "  <thead>\n",
       "    <tr style=\"text-align: right;\">\n",
       "      <th>educstr</th>\n",
       "      <th>Advanced</th>\n",
       "      <th>Associates</th>\n",
       "      <th>Bachelors</th>\n",
       "      <th>HS Diploma/GED</th>\n",
       "      <th>As_Ba</th>\n",
       "      <th>As_Hs</th>\n",
       "    </tr>\n",
       "    <tr>\n",
       "      <th>year</th>\n",
       "      <th></th>\n",
       "      <th></th>\n",
       "      <th></th>\n",
       "      <th></th>\n",
       "      <th></th>\n",
       "      <th></th>\n",
       "    </tr>\n",
       "  </thead>\n",
       "  <tbody>\n",
       "    <tr>\n",
       "      <th>2000</th>\n",
       "      <td>42700.0</td>\n",
       "      <td>25000.0</td>\n",
       "      <td>31500.0</td>\n",
       "      <td>16500.0</td>\n",
       "      <td>-6500.0</td>\n",
       "      <td>8500.0</td>\n",
       "    </tr>\n",
       "    <tr>\n",
       "      <th>2001</th>\n",
       "      <td>45000.0</td>\n",
       "      <td>25000.0</td>\n",
       "      <td>32000.0</td>\n",
       "      <td>16700.0</td>\n",
       "      <td>-7000.0</td>\n",
       "      <td>8300.0</td>\n",
       "    </tr>\n",
       "    <tr>\n",
       "      <th>2002</th>\n",
       "      <td>45000.0</td>\n",
       "      <td>26000.0</td>\n",
       "      <td>33000.0</td>\n",
       "      <td>16800.0</td>\n",
       "      <td>-7000.0</td>\n",
       "      <td>9200.0</td>\n",
       "    </tr>\n",
       "    <tr>\n",
       "      <th>2003</th>\n",
       "      <td>47200.0</td>\n",
       "      <td>26000.0</td>\n",
       "      <td>33000.0</td>\n",
       "      <td>16000.0</td>\n",
       "      <td>-7000.0</td>\n",
       "      <td>10000.0</td>\n",
       "    </tr>\n",
       "    <tr>\n",
       "      <th>2004</th>\n",
       "      <td>48000.0</td>\n",
       "      <td>26000.0</td>\n",
       "      <td>34000.0</td>\n",
       "      <td>16000.0</td>\n",
       "      <td>-8000.0</td>\n",
       "      <td>10000.0</td>\n",
       "    </tr>\n",
       "    <tr>\n",
       "      <th>2005</th>\n",
       "      <td>48800.0</td>\n",
       "      <td>26000.0</td>\n",
       "      <td>35000.0</td>\n",
       "      <td>16000.0</td>\n",
       "      <td>-9000.0</td>\n",
       "      <td>10000.0</td>\n",
       "    </tr>\n",
       "    <tr>\n",
       "      <th>2006</th>\n",
       "      <td>50000.0</td>\n",
       "      <td>27900.0</td>\n",
       "      <td>36000.0</td>\n",
       "      <td>17000.0</td>\n",
       "      <td>-8100.0</td>\n",
       "      <td>10900.0</td>\n",
       "    </tr>\n",
       "    <tr>\n",
       "      <th>2007</th>\n",
       "      <td>52000.0</td>\n",
       "      <td>28500.0</td>\n",
       "      <td>37700.0</td>\n",
       "      <td>17500.0</td>\n",
       "      <td>-9200.0</td>\n",
       "      <td>11000.0</td>\n",
       "    </tr>\n",
       "    <tr>\n",
       "      <th>2008</th>\n",
       "      <td>54000.0</td>\n",
       "      <td>29500.0</td>\n",
       "      <td>38200.0</td>\n",
       "      <td>18000.0</td>\n",
       "      <td>-8700.0</td>\n",
       "      <td>11500.0</td>\n",
       "    </tr>\n",
       "    <tr>\n",
       "      <th>2009</th>\n",
       "      <td>55000.0</td>\n",
       "      <td>29000.0</td>\n",
       "      <td>39000.0</td>\n",
       "      <td>16000.0</td>\n",
       "      <td>-10000.0</td>\n",
       "      <td>13000.0</td>\n",
       "    </tr>\n",
       "    <tr>\n",
       "      <th>2010</th>\n",
       "      <td>55000.0</td>\n",
       "      <td>26800.0</td>\n",
       "      <td>37000.0</td>\n",
       "      <td>14650.0</td>\n",
       "      <td>-10200.0</td>\n",
       "      <td>12150.0</td>\n",
       "    </tr>\n",
       "    <tr>\n",
       "      <th>2011</th>\n",
       "      <td>55000.0</td>\n",
       "      <td>26000.0</td>\n",
       "      <td>36000.0</td>\n",
       "      <td>13900.0</td>\n",
       "      <td>-10000.0</td>\n",
       "      <td>12100.0</td>\n",
       "    </tr>\n",
       "    <tr>\n",
       "      <th>2012</th>\n",
       "      <td>56000.0</td>\n",
       "      <td>26200.0</td>\n",
       "      <td>37500.0</td>\n",
       "      <td>14000.0</td>\n",
       "      <td>-11300.0</td>\n",
       "      <td>12200.0</td>\n",
       "    </tr>\n",
       "    <tr>\n",
       "      <th>2013</th>\n",
       "      <td>58000.0</td>\n",
       "      <td>26700.0</td>\n",
       "      <td>38000.0</td>\n",
       "      <td>15000.0</td>\n",
       "      <td>-11300.0</td>\n",
       "      <td>11700.0</td>\n",
       "    </tr>\n",
       "    <tr>\n",
       "      <th>2014</th>\n",
       "      <td>59000.0</td>\n",
       "      <td>27800.0</td>\n",
       "      <td>40000.0</td>\n",
       "      <td>15000.0</td>\n",
       "      <td>-12200.0</td>\n",
       "      <td>12800.0</td>\n",
       "    </tr>\n",
       "    <tr>\n",
       "      <th>2015</th>\n",
       "      <td>60000.0</td>\n",
       "      <td>28000.0</td>\n",
       "      <td>40000.0</td>\n",
       "      <td>16000.0</td>\n",
       "      <td>-12000.0</td>\n",
       "      <td>12000.0</td>\n",
       "    </tr>\n",
       "    <tr>\n",
       "      <th>2016</th>\n",
       "      <td>60000.0</td>\n",
       "      <td>30000.0</td>\n",
       "      <td>40000.0</td>\n",
       "      <td>17300.0</td>\n",
       "      <td>-10000.0</td>\n",
       "      <td>12700.0</td>\n",
       "    </tr>\n",
       "    <tr>\n",
       "      <th>2017</th>\n",
       "      <td>63000.0</td>\n",
       "      <td>30000.0</td>\n",
       "      <td>42000.0</td>\n",
       "      <td>18000.0</td>\n",
       "      <td>-12000.0</td>\n",
       "      <td>12000.0</td>\n",
       "    </tr>\n",
       "    <tr>\n",
       "      <th>2018</th>\n",
       "      <td>65000.0</td>\n",
       "      <td>30000.0</td>\n",
       "      <td>44000.0</td>\n",
       "      <td>20000.0</td>\n",
       "      <td>-14000.0</td>\n",
       "      <td>10000.0</td>\n",
       "    </tr>\n",
       "    <tr>\n",
       "      <th>2019</th>\n",
       "      <td>68000.0</td>\n",
       "      <td>31200.0</td>\n",
       "      <td>46000.0</td>\n",
       "      <td>20000.0</td>\n",
       "      <td>-14800.0</td>\n",
       "      <td>11200.0</td>\n",
       "    </tr>\n",
       "  </tbody>\n",
       "</table>\n",
       "</div>"
      ],
      "text/plain": [
       "educstr  Advanced  Associates  Bachelors  HS Diploma/GED    As_Ba    As_Hs\n",
       "year                                                                      \n",
       "2000      42700.0     25000.0    31500.0         16500.0  -6500.0   8500.0\n",
       "2001      45000.0     25000.0    32000.0         16700.0  -7000.0   8300.0\n",
       "2002      45000.0     26000.0    33000.0         16800.0  -7000.0   9200.0\n",
       "2003      47200.0     26000.0    33000.0         16000.0  -7000.0  10000.0\n",
       "2004      48000.0     26000.0    34000.0         16000.0  -8000.0  10000.0\n",
       "2005      48800.0     26000.0    35000.0         16000.0  -9000.0  10000.0\n",
       "2006      50000.0     27900.0    36000.0         17000.0  -8100.0  10900.0\n",
       "2007      52000.0     28500.0    37700.0         17500.0  -9200.0  11000.0\n",
       "2008      54000.0     29500.0    38200.0         18000.0  -8700.0  11500.0\n",
       "2009      55000.0     29000.0    39000.0         16000.0 -10000.0  13000.0\n",
       "2010      55000.0     26800.0    37000.0         14650.0 -10200.0  12150.0\n",
       "2011      55000.0     26000.0    36000.0         13900.0 -10000.0  12100.0\n",
       "2012      56000.0     26200.0    37500.0         14000.0 -11300.0  12200.0\n",
       "2013      58000.0     26700.0    38000.0         15000.0 -11300.0  11700.0\n",
       "2014      59000.0     27800.0    40000.0         15000.0 -12200.0  12800.0\n",
       "2015      60000.0     28000.0    40000.0         16000.0 -12000.0  12000.0\n",
       "2016      60000.0     30000.0    40000.0         17300.0 -10000.0  12700.0\n",
       "2017      63000.0     30000.0    42000.0         18000.0 -12000.0  12000.0\n",
       "2018      65000.0     30000.0    44000.0         20000.0 -14000.0  10000.0\n",
       "2019      68000.0     31200.0    46000.0         20000.0 -14800.0  11200.0"
      ]
     },
     "metadata": {},
     "output_type": "display_data"
    }
   ],
   "source": [
    "# Get Median Wages by year/education level\n",
    "df_grouped = df.groupby(['year','educstr'], as_index = False)\n",
    "\n",
    "grouped_med_wages = df_grouped[['incwage']].median()\n",
    "grouped_med_wages = grouped_med_wages.pivot(index = 'year', columns = 'educstr', values = 'incwage')\n",
    "\n",
    "# Get differences between Associates degree and bachelor's degree or HS diploma\n",
    "grouped_med_wages['As_Ba'] = grouped_med_wages['Associates'] - grouped_med_wages['Bachelors']\n",
    "grouped_med_wages['As_Hs'] = grouped_med_wages['Associates'] - grouped_med_wages['HS Diploma/GED']\n",
    "\n",
    "print(\"Median wage by year/education level\")\n",
    "display(grouped_med_wages)"
   ]
  },
  {
   "cell_type": "code",
   "execution_count": 9,
   "id": "b15225fc",
   "metadata": {
    "scrolled": true
   },
   "outputs": [
    {
     "name": "stdout",
     "output_type": "stream",
     "text": [
      "%Female\n"
     ]
    },
    {
     "data": {
      "text/html": [
       "<div>\n",
       "<style scoped>\n",
       "    .dataframe tbody tr th:only-of-type {\n",
       "        vertical-align: middle;\n",
       "    }\n",
       "\n",
       "    .dataframe tbody tr th {\n",
       "        vertical-align: top;\n",
       "    }\n",
       "\n",
       "    .dataframe thead th {\n",
       "        text-align: right;\n",
       "    }\n",
       "</style>\n",
       "<table border=\"1\" class=\"dataframe\">\n",
       "  <thead>\n",
       "    <tr style=\"text-align: right;\">\n",
       "      <th>educstr</th>\n",
       "      <th>Advanced</th>\n",
       "      <th>Associates</th>\n",
       "      <th>Bachelors</th>\n",
       "      <th>HS Diploma/GED</th>\n",
       "    </tr>\n",
       "    <tr>\n",
       "      <th>year</th>\n",
       "      <th></th>\n",
       "      <th></th>\n",
       "      <th></th>\n",
       "      <th></th>\n",
       "    </tr>\n",
       "  </thead>\n",
       "  <tbody>\n",
       "    <tr>\n",
       "      <th>2000</th>\n",
       "      <td>0.48</td>\n",
       "      <td>0.56</td>\n",
       "      <td>0.52</td>\n",
       "      <td>0.53</td>\n",
       "    </tr>\n",
       "    <tr>\n",
       "      <th>2001</th>\n",
       "      <td>0.48</td>\n",
       "      <td>0.56</td>\n",
       "      <td>0.52</td>\n",
       "      <td>0.52</td>\n",
       "    </tr>\n",
       "    <tr>\n",
       "      <th>2002</th>\n",
       "      <td>0.49</td>\n",
       "      <td>0.57</td>\n",
       "      <td>0.52</td>\n",
       "      <td>0.52</td>\n",
       "    </tr>\n",
       "    <tr>\n",
       "      <th>2003</th>\n",
       "      <td>0.49</td>\n",
       "      <td>0.57</td>\n",
       "      <td>0.53</td>\n",
       "      <td>0.52</td>\n",
       "    </tr>\n",
       "    <tr>\n",
       "      <th>2004</th>\n",
       "      <td>0.50</td>\n",
       "      <td>0.57</td>\n",
       "      <td>0.53</td>\n",
       "      <td>0.52</td>\n",
       "    </tr>\n",
       "    <tr>\n",
       "      <th>2005</th>\n",
       "      <td>0.51</td>\n",
       "      <td>0.57</td>\n",
       "      <td>0.53</td>\n",
       "      <td>0.52</td>\n",
       "    </tr>\n",
       "    <tr>\n",
       "      <th>2006</th>\n",
       "      <td>0.51</td>\n",
       "      <td>0.57</td>\n",
       "      <td>0.53</td>\n",
       "      <td>0.52</td>\n",
       "    </tr>\n",
       "    <tr>\n",
       "      <th>2007</th>\n",
       "      <td>0.52</td>\n",
       "      <td>0.57</td>\n",
       "      <td>0.53</td>\n",
       "      <td>0.52</td>\n",
       "    </tr>\n",
       "    <tr>\n",
       "      <th>2008</th>\n",
       "      <td>0.52</td>\n",
       "      <td>0.58</td>\n",
       "      <td>0.53</td>\n",
       "      <td>0.52</td>\n",
       "    </tr>\n",
       "    <tr>\n",
       "      <th>2009</th>\n",
       "      <td>0.52</td>\n",
       "      <td>0.58</td>\n",
       "      <td>0.54</td>\n",
       "      <td>0.51</td>\n",
       "    </tr>\n",
       "    <tr>\n",
       "      <th>2010</th>\n",
       "      <td>0.53</td>\n",
       "      <td>0.58</td>\n",
       "      <td>0.54</td>\n",
       "      <td>0.51</td>\n",
       "    </tr>\n",
       "    <tr>\n",
       "      <th>2011</th>\n",
       "      <td>0.54</td>\n",
       "      <td>0.58</td>\n",
       "      <td>0.54</td>\n",
       "      <td>0.51</td>\n",
       "    </tr>\n",
       "    <tr>\n",
       "      <th>2012</th>\n",
       "      <td>0.54</td>\n",
       "      <td>0.58</td>\n",
       "      <td>0.54</td>\n",
       "      <td>0.50</td>\n",
       "    </tr>\n",
       "    <tr>\n",
       "      <th>2013</th>\n",
       "      <td>0.54</td>\n",
       "      <td>0.58</td>\n",
       "      <td>0.54</td>\n",
       "      <td>0.50</td>\n",
       "    </tr>\n",
       "    <tr>\n",
       "      <th>2014</th>\n",
       "      <td>0.54</td>\n",
       "      <td>0.58</td>\n",
       "      <td>0.54</td>\n",
       "      <td>0.50</td>\n",
       "    </tr>\n",
       "    <tr>\n",
       "      <th>2015</th>\n",
       "      <td>0.55</td>\n",
       "      <td>0.58</td>\n",
       "      <td>0.54</td>\n",
       "      <td>0.50</td>\n",
       "    </tr>\n",
       "    <tr>\n",
       "      <th>2016</th>\n",
       "      <td>0.55</td>\n",
       "      <td>0.58</td>\n",
       "      <td>0.54</td>\n",
       "      <td>0.50</td>\n",
       "    </tr>\n",
       "    <tr>\n",
       "      <th>2017</th>\n",
       "      <td>0.56</td>\n",
       "      <td>0.58</td>\n",
       "      <td>0.54</td>\n",
       "      <td>0.49</td>\n",
       "    </tr>\n",
       "    <tr>\n",
       "      <th>2018</th>\n",
       "      <td>0.56</td>\n",
       "      <td>0.57</td>\n",
       "      <td>0.54</td>\n",
       "      <td>0.49</td>\n",
       "    </tr>\n",
       "    <tr>\n",
       "      <th>2019</th>\n",
       "      <td>0.56</td>\n",
       "      <td>0.57</td>\n",
       "      <td>0.54</td>\n",
       "      <td>0.49</td>\n",
       "    </tr>\n",
       "  </tbody>\n",
       "</table>\n",
       "</div>"
      ],
      "text/plain": [
       "educstr  Advanced  Associates  Bachelors  HS Diploma/GED\n",
       "year                                                    \n",
       "2000         0.48        0.56       0.52            0.53\n",
       "2001         0.48        0.56       0.52            0.52\n",
       "2002         0.49        0.57       0.52            0.52\n",
       "2003         0.49        0.57       0.53            0.52\n",
       "2004         0.50        0.57       0.53            0.52\n",
       "2005         0.51        0.57       0.53            0.52\n",
       "2006         0.51        0.57       0.53            0.52\n",
       "2007         0.52        0.57       0.53            0.52\n",
       "2008         0.52        0.58       0.53            0.52\n",
       "2009         0.52        0.58       0.54            0.51\n",
       "2010         0.53        0.58       0.54            0.51\n",
       "2011         0.54        0.58       0.54            0.51\n",
       "2012         0.54        0.58       0.54            0.50\n",
       "2013         0.54        0.58       0.54            0.50\n",
       "2014         0.54        0.58       0.54            0.50\n",
       "2015         0.55        0.58       0.54            0.50\n",
       "2016         0.55        0.58       0.54            0.50\n",
       "2017         0.56        0.58       0.54            0.49\n",
       "2018         0.56        0.57       0.54            0.49\n",
       "2019         0.56        0.57       0.54            0.49"
      ]
     },
     "execution_count": 9,
     "metadata": {},
     "output_type": "execute_result"
    }
   ],
   "source": [
    "#Education by gender\n",
    "df_grouped_gender = df.groupby(['year','educstr'], as_index = False)[[\"sex\"]].mean().round(2)\n",
    "print(\"%Female\") #NOTE FEMALE 1 ,MALE 0\n",
    "df_grouped_gender.pivot(index = 'year', columns = 'educstr', values = 'sex')"
   ]
  },
  {
   "cell_type": "code",
   "execution_count": 10,
   "id": "cec189b3",
   "metadata": {
    "scrolled": true
   },
   "outputs": [
    {
     "name": "stdout",
     "output_type": "stream",
     "text": [
      "%Male\n"
     ]
    },
    {
     "data": {
      "text/html": [
       "<div>\n",
       "<style scoped>\n",
       "    .dataframe tbody tr th:only-of-type {\n",
       "        vertical-align: middle;\n",
       "    }\n",
       "\n",
       "    .dataframe tbody tr th {\n",
       "        vertical-align: top;\n",
       "    }\n",
       "\n",
       "    .dataframe thead th {\n",
       "        text-align: right;\n",
       "    }\n",
       "</style>\n",
       "<table border=\"1\" class=\"dataframe\">\n",
       "  <thead>\n",
       "    <tr style=\"text-align: right;\">\n",
       "      <th>educstr</th>\n",
       "      <th>Advanced</th>\n",
       "      <th>Associates</th>\n",
       "      <th>Bachelors</th>\n",
       "      <th>HS Diploma/GED</th>\n",
       "    </tr>\n",
       "    <tr>\n",
       "      <th>year</th>\n",
       "      <th></th>\n",
       "      <th></th>\n",
       "      <th></th>\n",
       "      <th></th>\n",
       "    </tr>\n",
       "  </thead>\n",
       "  <tbody>\n",
       "    <tr>\n",
       "      <th>2000</th>\n",
       "      <td>0.52</td>\n",
       "      <td>0.44</td>\n",
       "      <td>0.48</td>\n",
       "      <td>0.47</td>\n",
       "    </tr>\n",
       "    <tr>\n",
       "      <th>2001</th>\n",
       "      <td>0.52</td>\n",
       "      <td>0.44</td>\n",
       "      <td>0.48</td>\n",
       "      <td>0.48</td>\n",
       "    </tr>\n",
       "    <tr>\n",
       "      <th>2002</th>\n",
       "      <td>0.51</td>\n",
       "      <td>0.43</td>\n",
       "      <td>0.48</td>\n",
       "      <td>0.48</td>\n",
       "    </tr>\n",
       "    <tr>\n",
       "      <th>2003</th>\n",
       "      <td>0.51</td>\n",
       "      <td>0.43</td>\n",
       "      <td>0.47</td>\n",
       "      <td>0.48</td>\n",
       "    </tr>\n",
       "    <tr>\n",
       "      <th>2004</th>\n",
       "      <td>0.50</td>\n",
       "      <td>0.43</td>\n",
       "      <td>0.47</td>\n",
       "      <td>0.48</td>\n",
       "    </tr>\n",
       "    <tr>\n",
       "      <th>2005</th>\n",
       "      <td>0.49</td>\n",
       "      <td>0.43</td>\n",
       "      <td>0.47</td>\n",
       "      <td>0.48</td>\n",
       "    </tr>\n",
       "    <tr>\n",
       "      <th>2006</th>\n",
       "      <td>0.49</td>\n",
       "      <td>0.43</td>\n",
       "      <td>0.47</td>\n",
       "      <td>0.48</td>\n",
       "    </tr>\n",
       "    <tr>\n",
       "      <th>2007</th>\n",
       "      <td>0.48</td>\n",
       "      <td>0.43</td>\n",
       "      <td>0.47</td>\n",
       "      <td>0.48</td>\n",
       "    </tr>\n",
       "    <tr>\n",
       "      <th>2008</th>\n",
       "      <td>0.48</td>\n",
       "      <td>0.42</td>\n",
       "      <td>0.47</td>\n",
       "      <td>0.48</td>\n",
       "    </tr>\n",
       "    <tr>\n",
       "      <th>2009</th>\n",
       "      <td>0.48</td>\n",
       "      <td>0.42</td>\n",
       "      <td>0.46</td>\n",
       "      <td>0.49</td>\n",
       "    </tr>\n",
       "    <tr>\n",
       "      <th>2010</th>\n",
       "      <td>0.47</td>\n",
       "      <td>0.42</td>\n",
       "      <td>0.46</td>\n",
       "      <td>0.49</td>\n",
       "    </tr>\n",
       "    <tr>\n",
       "      <th>2011</th>\n",
       "      <td>0.46</td>\n",
       "      <td>0.42</td>\n",
       "      <td>0.46</td>\n",
       "      <td>0.49</td>\n",
       "    </tr>\n",
       "    <tr>\n",
       "      <th>2012</th>\n",
       "      <td>0.46</td>\n",
       "      <td>0.42</td>\n",
       "      <td>0.46</td>\n",
       "      <td>0.50</td>\n",
       "    </tr>\n",
       "    <tr>\n",
       "      <th>2013</th>\n",
       "      <td>0.46</td>\n",
       "      <td>0.42</td>\n",
       "      <td>0.46</td>\n",
       "      <td>0.50</td>\n",
       "    </tr>\n",
       "    <tr>\n",
       "      <th>2014</th>\n",
       "      <td>0.46</td>\n",
       "      <td>0.42</td>\n",
       "      <td>0.46</td>\n",
       "      <td>0.50</td>\n",
       "    </tr>\n",
       "    <tr>\n",
       "      <th>2015</th>\n",
       "      <td>0.45</td>\n",
       "      <td>0.42</td>\n",
       "      <td>0.46</td>\n",
       "      <td>0.50</td>\n",
       "    </tr>\n",
       "    <tr>\n",
       "      <th>2016</th>\n",
       "      <td>0.45</td>\n",
       "      <td>0.42</td>\n",
       "      <td>0.46</td>\n",
       "      <td>0.50</td>\n",
       "    </tr>\n",
       "    <tr>\n",
       "      <th>2017</th>\n",
       "      <td>0.44</td>\n",
       "      <td>0.42</td>\n",
       "      <td>0.46</td>\n",
       "      <td>0.51</td>\n",
       "    </tr>\n",
       "    <tr>\n",
       "      <th>2018</th>\n",
       "      <td>0.44</td>\n",
       "      <td>0.43</td>\n",
       "      <td>0.46</td>\n",
       "      <td>0.51</td>\n",
       "    </tr>\n",
       "    <tr>\n",
       "      <th>2019</th>\n",
       "      <td>0.44</td>\n",
       "      <td>0.43</td>\n",
       "      <td>0.46</td>\n",
       "      <td>0.51</td>\n",
       "    </tr>\n",
       "  </tbody>\n",
       "</table>\n",
       "</div>"
      ],
      "text/plain": [
       "educstr  Advanced  Associates  Bachelors  HS Diploma/GED\n",
       "year                                                    \n",
       "2000         0.52        0.44       0.48            0.47\n",
       "2001         0.52        0.44       0.48            0.48\n",
       "2002         0.51        0.43       0.48            0.48\n",
       "2003         0.51        0.43       0.47            0.48\n",
       "2004         0.50        0.43       0.47            0.48\n",
       "2005         0.49        0.43       0.47            0.48\n",
       "2006         0.49        0.43       0.47            0.48\n",
       "2007         0.48        0.43       0.47            0.48\n",
       "2008         0.48        0.42       0.47            0.48\n",
       "2009         0.48        0.42       0.46            0.49\n",
       "2010         0.47        0.42       0.46            0.49\n",
       "2011         0.46        0.42       0.46            0.49\n",
       "2012         0.46        0.42       0.46            0.50\n",
       "2013         0.46        0.42       0.46            0.50\n",
       "2014         0.46        0.42       0.46            0.50\n",
       "2015         0.45        0.42       0.46            0.50\n",
       "2016         0.45        0.42       0.46            0.50\n",
       "2017         0.44        0.42       0.46            0.51\n",
       "2018         0.44        0.43       0.46            0.51\n",
       "2019         0.44        0.43       0.46            0.51"
      ]
     },
     "execution_count": 10,
     "metadata": {},
     "output_type": "execute_result"
    }
   ],
   "source": [
    "print(\"%Male\")\n",
    "1-df_grouped_gender.pivot(index = 'year', columns = 'educstr', values = 'sex')"
   ]
  },
  {
   "cell_type": "code",
   "execution_count": 11,
   "id": "d2c70c36",
   "metadata": {},
   "outputs": [
    {
     "name": "stdout",
     "output_type": "stream",
     "text": [
      "Median Wage Difference between Associates and Bachelors\n"
     ]
    },
    {
     "data": {
      "image/png": "[encoded data removed]",
      "text/plain": [
       "<Figure size 432x288 with 1 Axes>"
      ]
     },
     "metadata": {
      "needs_background": "light"
     },
     "output_type": "display_data"
    }
   ],
   "source": [
    "print(\"Median Wage Difference between Associates and Bachelors\")\n",
    "plt.plot(grouped_med_wages['As_Ba']);"
   ]
  },
  {
   "cell_type": "code",
   "execution_count": 12,
   "id": "b3e0cf6b",
   "metadata": {},
   "outputs": [
    {
     "name": "stdout",
     "output_type": "stream",
     "text": [
      "Median Wage Difference between Associates and High School\n"
     ]
    },
    {
     "data": {
      "image/png": "[encoded data removed]",
      "text/plain": [
       "<Figure size 432x288 with 1 Axes>"
      ]
     },
     "metadata": {
      "needs_background": "light"
     },
     "output_type": "display_data"
    }
   ],
   "source": [
    "print(\"Median Wage Difference between Associates and High School\")\n",
    "plt.plot(grouped_med_wages['As_Hs']);"
   ]
  },
  {
   "cell_type": "markdown",
   "id": "c37a102b",
   "metadata": {},
   "source": [
    "Interesting note: The wage premium for an associates degree was steadily increasing until the Global Financial Crisis, where it froze/declined."
   ]
  },
  {
   "cell_type": "code",
   "execution_count": 13,
   "id": "4e3a2740",
   "metadata": {},
   "outputs": [
    {
     "data": {
      "image/png": "[encoded data removed]",
      "text/plain": [
       "<Figure size 504x360 with 1 Axes>"
      ]
     },
     "metadata": {
      "needs_background": "light"
     },
     "output_type": "display_data"
    }
   ],
   "source": [
    "#Some additional plot by num\n",
    "marker=[\"o\",\"x\",\"^\",\"s\"]\n",
    "plt.figure(figsize=(7,5))\n",
    "for i,j in enumerate(grouped_med_wages.columns[0:4]):\n",
    "    plt.scatter(grouped_med_wages.index,grouped_med_wages[j].pct_change(),marker=marker[i])\n",
    "    plt.plot(grouped_med_wages.index,grouped_med_wages[j].pct_change(),label=j)\n",
    "plt.xticks(grouped_med_wages.index[0::2])\n",
    "plt.legend(loc='lower right')\n",
    "plt.xlabel(\"Year\")\n",
    "plt.ylabel(\"Percentage Change in Average Income\")\n",
    "plt.grid()\n",
    "plt.show()"
   ]
  },
  {
   "cell_type": "markdown",
   "id": "0e19cdd4",
   "metadata": {},
   "source": [
    "The GFC didn't affect people with advanced degrees at all."
   ]
  },
  {
   "cell_type": "markdown",
   "id": "9543c6de",
   "metadata": {},
   "source": [
    "# Ratio of people getting each degree over time"
   ]
  },
  {
   "cell_type": "code",
   "execution_count": 14,
   "id": "55c9b9a7",
   "metadata": {},
   "outputs": [],
   "source": [
    "grouped_yreduc_count = df_grouped.size()\n",
    "grouped_year_count = grouped_yreduc_count.groupby(['year'], as_index = False).sum()\n",
    "\n",
    "grouped_yreduc_ratio = grouped_yreduc_count.merge(grouped_year_count, \n",
    "                               how = 'left', on = 'year')\n",
    "grouped_yreduc_ratio['ratio'] = grouped_yreduc_ratio['size_x']/grouped_yreduc_ratio['size_y']\n",
    "grouped_yreduc_ratio.drop(columns = ['size_x','size_y'], inplace = True)"
   ]
  },
  {
   "cell_type": "code",
   "execution_count": 15,
   "id": "b92fc826",
   "metadata": {},
   "outputs": [
    {
     "name": "stdout",
     "output_type": "stream",
     "text": [
      "Education Ratio by Year\n"
     ]
    },
    {
     "data": {
      "image/png": "[encoded data removed]",
      "text/plain": [
       "<Figure size 432x288 with 1 Axes>"
      ]
     },
     "metadata": {
      "needs_background": "light"
     },
     "output_type": "display_data"
    }
   ],
   "source": [
    "print(\"Education Ratio by Year\")\n",
    "sns.lineplot(x = 'year', y = 'ratio', hue = 'educstr', \n",
    "             data = grouped_yreduc_ratio);"
   ]
  },
  {
   "cell_type": "code",
   "execution_count": 16,
   "id": "09d98c53",
   "metadata": {
    "scrolled": true
   },
   "outputs": [
    {
     "name": "stdout",
     "output_type": "stream",
     "text": [
      "Education Ratio by Year - AS and BA only\n"
     ]
    },
    {
     "data": {
      "image/png": "[encoded data removed]",
      "text/plain": [
       "<Figure size 432x288 with 1 Axes>"
      ]
     },
     "metadata": {
      "needs_background": "light"
     },
     "output_type": "display_data"
    }
   ],
   "source": [
    "print(\"Education Ratio by Year - AS and BA only\")\n",
    "sns.lineplot(x = 'year', y = 'ratio', hue = 'educstr', \n",
    "             data = grouped_yreduc_ratio[ (grouped_yreduc_ratio['educstr'] == 'Associates')|\n",
    "                                          (grouped_yreduc_ratio['educstr'] == 'Bachelors')]);"
   ]
  },
  {
   "cell_type": "markdown",
   "id": "2e8389cb",
   "metadata": {},
   "source": [
    "After the GFC, ratio of Bachelor's degree increases more dramatically, while ratio of Associates degrees rises at the same rate."
   ]
  },
  {
   "cell_type": "code",
   "execution_count": 17,
   "id": "29e5825e",
   "metadata": {},
   "outputs": [
    {
     "name": "stdout",
     "output_type": "stream",
     "text": [
      "Education Ratio by Year - AS and HS only\n"
     ]
    },
    {
     "data": {
      "image/png": "[encoded data removed]",
      "text/plain": [
       "<Figure size 432x288 with 1 Axes>"
      ]
     },
     "metadata": {
      "needs_background": "light"
     },
     "output_type": "display_data"
    }
   ],
   "source": [
    "print(\"Education Ratio by Year - AS and HS only\")\n",
    "sns.lineplot(x = 'year', y = 'ratio', hue = 'educstr', \n",
    "             data = grouped_yreduc_ratio[ (grouped_yreduc_ratio['educstr'] == 'Associates')|\n",
    "                                          (grouped_yreduc_ratio['educstr'] == 'HS Diploma/GED')]);"
   ]
  },
  {
   "cell_type": "markdown",
   "id": "46ef08ea",
   "metadata": {},
   "source": [
    "# Regression"
   ]
  },
  {
   "cell_type": "code",
   "execution_count": 18,
   "id": "6f187f27",
   "metadata": {},
   "outputs": [
    {
     "data": {
      "image/png": "[encoded data removed]",
      "text/plain": [
       "<Figure size 720x360 with 2 Axes>"
      ]
     },
     "metadata": {
      "needs_background": "light"
     },
     "output_type": "display_data"
    }
   ],
   "source": [
    "#WAGE VS LOG(WAGE)\n",
    "fig, ax = plt.subplots(1,2,figsize=(10,5))\n",
    "ax[0].hist(df.incwage)\n",
    "ax[1].hist(np.log(df[\"incwage\"].replace(0,1)))\n",
    "plt.show()\n",
    "\n",
    "#Log wage seems to be normally distributed"
   ]
  },
  {
   "cell_type": "code",
   "execution_count": 19,
   "id": "b398e347",
   "metadata": {},
   "outputs": [
    {
     "data": {
      "text/plain": [
       "empstat\n",
       "1    45973.010080\n",
       "2    11249.810082\n",
       "3     3696.644749\n",
       "Name: incwage, dtype: float64"
      ]
     },
     "execution_count": 19,
     "metadata": {},
     "output_type": "execute_result"
    }
   ],
   "source": [
    "#Mean income by employment status\n",
    "df.groupby(\"empstat\")[\"incwage\"].mean()"
   ]
  },
  {
   "cell_type": "code",
   "execution_count": 20,
   "id": "e21467d5",
   "metadata": {},
   "outputs": [
    {
     "data": {
      "text/plain": [
       "empstat\n",
       "1     5.525625\n",
       "2    40.198032\n",
       "3    79.475582\n",
       "dtype: float64"
      ]
     },
     "execution_count": 20,
     "metadata": {},
     "output_type": "execute_result"
    }
   ],
   "source": [
    "#% of people with zero income by employmeny status\n",
    "df[\"no_wage\"] = (df[\"incwage\"]==0)\n",
    "(df.groupby(\"empstat\")[\"no_wage\"].sum()/df.groupby(\"empstat\")[\"empstat\"].count())*100"
   ]
  },
  {
   "cell_type": "code",
   "execution_count": 21,
   "id": "50846917",
   "metadata": {},
   "outputs": [],
   "source": [
    "#Models\n",
    "\n",
    "#1 Basic y~x\n",
    "#2 demographic control \n",
    "#### family inc and family stuff ---> size = NAN, and family inc is correlated with income for sure :()\n",
    "#3 Time and time trend\n",
    "#4 geo level control \n",
    "#5 full control\n",
    "\n",
    "#Log_wage, replace 0 wage with 1 to avoid log(0)\n",
    "y = np.log(df[\"incwage\"].replace(0,1))\n",
    "X = pd.get_dummies(df[\"educstr\"]).drop(\"HS Diploma/GED\",axis=1)"
   ]
  },
  {
   "cell_type": "code",
   "execution_count": 22,
   "id": "bdd36d5d",
   "metadata": {},
   "outputs": [],
   "source": [
    "#Controls for individual factor\n",
    "controls1 = [\"race\",\"age\",\"sex\",\"empstat\",\"citizen\",\"famsize\"]\n",
    "c1 = pd.get_dummies(df[controls1],columns=[\"race\",\"empstat\",\"citizen\"],drop_first=True)"
   ]
  },
  {
   "cell_type": "code",
   "execution_count": 23,
   "id": "1f4f54a9",
   "metadata": {},
   "outputs": [],
   "source": [
    "#Time Trend\n",
    "df[\"time_trend\"] = df[\"year\"] - min(df.year)      #t\n",
    "df[\"time_trend_squared\"] = df[\"time_trend\"]**2  #t^2\n",
    "\n",
    "t = df[[\"time_trend\", \"time_trend_squared\"]]"
   ]
  },
  {
   "cell_type": "code",
   "execution_count": 24,
   "id": "713419ed",
   "metadata": {},
   "outputs": [],
   "source": [
    "# Controls for family\n",
    "# 90% missing values for parent's income. Can't use this\n"
   ]
  },
  {
   "cell_type": "code",
   "execution_count": 25,
   "id": "1d6675c6",
   "metadata": {},
   "outputs": [
    {
     "data": {
      "text/plain": [
       "Index(['statefip_2', 'statefip_4', 'statefip_5', 'statefip_6', 'statefip_8',\n",
       "       'statefip_9', 'statefip_10', 'statefip_11', 'statefip_12',\n",
       "       'statefip_13', 'statefip_15', 'statefip_16', 'statefip_17',\n",
       "       'statefip_18', 'statefip_19', 'statefip_20', 'statefip_21',\n",
       "       'statefip_22', 'statefip_23', 'statefip_24', 'statefip_25',\n",
       "       'statefip_26', 'statefip_27', 'statefip_28', 'statefip_29',\n",
       "       'statefip_30', 'statefip_31', 'statefip_32', 'statefip_33',\n",
       "       'statefip_34', 'statefip_35', 'statefip_36', 'statefip_37',\n",
       "       'statefip_38', 'statefip_39', 'statefip_40', 'statefip_41',\n",
       "       'statefip_42', 'statefip_44', 'statefip_45', 'statefip_46',\n",
       "       'statefip_47', 'statefip_48', 'statefip_49', 'statefip_50',\n",
       "       'statefip_51', 'statefip_53', 'statefip_54', 'statefip_55',\n",
       "       'statefip_56'],\n",
       "      dtype='object')"
      ]
     },
     "metadata": {},
     "output_type": "display_data"
    }
   ],
   "source": [
    "# Note about geo-level control: Not sure what to use, There's too many locations. Maybe need a proxy like local median wage\n",
    "# Controls for location (state only for simplicity LOL)\n",
    "c2 = pd.get_dummies(df[\"statefip\"],drop_first=True)\n",
    "\n",
    "# Note2: I have to rename the state dummy variables so that it works with stargazer package\n",
    "c2 = c2.add_prefix('statefip_')\n",
    "display(c2.columns)"
   ]
  },
  {
   "cell_type": "code",
   "execution_count": 26,
   "id": "fcaed2c5",
   "metadata": {},
   "outputs": [
    {
     "data": {
      "text/plain": [
       "Index(['race_2_sex', 'race_3_sex', 'race_4_sex', 'race_5_sex', 'race_6_sex',\n",
       "       'race_7_sex', 'race_8_sex', 'race_9_sex', 'empstat_2_sex',\n",
       "       'empstat_3_sex', 'citizen_1_sex', 'citizen_2_sex', 'citizen_3_sex'],\n",
       "      dtype='object')"
      ]
     },
     "metadata": {},
     "output_type": "display_data"
    }
   ],
   "source": [
    "#Interaction Variable\n",
    "c1_int = c1.drop([\"age\",\"sex\",\"famsize\"],axis=1).copy()\n",
    "for col in c1_int.columns:\n",
    "    c1_int.loc[:,col+\"_sex\"] = c1_int[col]*c1[\"sex\"]\n",
    "    c1_int.drop(col,axis=1,inplace=True)\n",
    "display(c1_int.columns)"
   ]
  },
  {
   "cell_type": "code",
   "execution_count": 27,
   "id": "c5520828",
   "metadata": {},
   "outputs": [],
   "source": [
    "import statsmodels.api as sm\n",
    "from stargazer.stargazer import Stargazer #nice tables with statsmodels"
   ]
  },
  {
   "cell_type": "code",
   "execution_count": 28,
   "id": "c8d5c227",
   "metadata": {},
   "outputs": [
    {
     "name": "stderr",
     "output_type": "stream",
     "text": [
      "C:\\ProgramData\\Anaconda3\\lib\\site-packages\\statsmodels\\tsa\\tsatools.py:142: FutureWarning: In a future version of pandas all arguments of concat except for the argument 'objs' will be keyword-only\n",
      "  x = pd.concat(x[::order], 1)\n"
     ]
    }
   ],
   "source": [
    "models = [\n",
    "    sm.OLS(y,sm.add_constant(X)).fit(),\n",
    "    sm.OLS(y,sm.add_constant(pd.concat([X, c1], axis=1))).fit(),\n",
    "    sm.OLS(y,sm.add_constant(pd.concat([X, c1, t], axis=1))).fit(),\n",
    "    sm.OLS(y,sm.add_constant(pd.concat([X, c1, t, c2], axis=1))).fit(),\n",
    "    sm.OLS(y,sm.add_constant(pd.concat([X, c1, t, c2,c1_int], axis=1))).fit()\n",
    "]\n"
   ]
  },
  {
   "cell_type": "code",
   "execution_count": 29,
   "id": "63cc2171",
   "metadata": {},
   "outputs": [
    {
     "data": {
      "text/html": [
       "Prototype Model, LOG-LINEAR<br><table style=\"text-align:center\"><tr><td colspan=\"6\" style=\"border-bottom: 1px solid black\"></td></tr><tr><td style=\"text-align:left\"></td><td colspan=\"5\"><em>Dependent variable:incwage</em></td></tr><tr><td style=\"text-align:left\"></td><tr><td style=\"text-align:left\"></td><td>(1)</td><td>(2)</td><td>(3)</td><td>(4)</td><td>(5)</td></tr><tr><td colspan=\"6\" style=\"border-bottom: 1px solid black\"></td></tr><tr><td style=\"text-align:left\">Advanced</td><td>2.003<sup>***</sup></td><td>1.017<sup>***</sup></td><td>1.019<sup>***</sup></td><td>1.002<sup>***</sup></td><td>0.999<sup>***</sup></td></tr><tr><td style=\"text-align:left\"></td><td>(0.007)</td><td>(0.005)</td><td>(0.005)</td><td>(0.005)</td><td>(0.005)</td></tr><tr><td style=\"text-align:left\">Associates</td><td>0.963<sup>***</sup></td><td>0.397<sup>***</sup></td><td>0.401<sup>***</sup></td><td>0.402<sup>***</sup></td><td>0.401<sup>***</sup></td></tr><tr><td style=\"text-align:left\"></td><td>(0.007)</td><td>(0.005)</td><td>(0.005)</td><td>(0.005)</td><td>(0.005)</td></tr><tr><td style=\"text-align:left\">Bachelors</td><td>1.421<sup>***</sup></td><td>0.650<sup>***</sup></td><td>0.652<sup>***</sup></td><td>0.644<sup>***</sup></td><td>0.646<sup>***</sup></td></tr><tr><td style=\"text-align:left\"></td><td>(0.005)</td><td>(0.004)</td><td>(0.004)</td><td>(0.004)</td><td>(0.004)</td></tr><td colspan=\"6\" style=\"border-bottom: 1px solid black\"></td></tr><tr><td style=\"text-align: left\">Observations</td><td>4,097,495</td><td>4,097,495</td><td>4,097,495</td><td>4,097,495</td><td>4,097,495</td></tr><tr><td style=\"text-align: left\">R<sup>2</sup></td><td>0.031</td><td>0.559</td><td>0.559</td><td>0.560</td><td>0.560</td></tr><tr><td style=\"text-align: left\">Adjusted R<sup>2</sup></td><td>0.031</td><td>0.559</td><td>0.559</td><td>0.560</td><td>0.560</td></tr><tr><td style=\"text-align: left\">Residual Std. Error</td><td>4.301 (df=4097491)</td><td>2.903 (df=4097475)</td><td>2.902 (df=4097473)</td><td>2.899 (df=4097423)</td><td>2.898 (df=4097410)</td></tr><tr><td style=\"text-align: left\">F Statistic</td><td>44055.116<sup>***</sup> (df=3; 4097491)</td><td>273185.737<sup>***</sup> (df=19; 4097475)</td><td>247462.423<sup>***</sup> (df=21; 4097473)</td><td>73407.357<sup>***</sup> (df=71; 4097423)</td><td>62160.523<sup>***</sup> (df=84; 4097410)</td></tr><tr><td colspan=\"6\" style=\"border-bottom: 1px solid black\"></td></tr><tr><td style=\"text-align: left\">Note:</td>\n",
       " <td colspan=\"5\" style=\"text-align: right\">\n",
       "  <sup>*</sup>p&lt;0.1;\n",
       "  <sup>**</sup>p&lt;0.05;\n",
       "  <sup>***</sup>p&lt;0.01\n",
       " </td></tr></table>"
      ],
      "text/plain": [
       "<stargazer.stargazer.Stargazer at 0x2b6bed995b0>"
      ]
     },
     "execution_count": 29,
     "metadata": {},
     "output_type": "execute_result"
    }
   ],
   "source": [
    "#Make a nice table so that we can easily jot the number into a nice table with Microsoft word\n",
    "table = Stargazer(models)\n",
    "table.title('Prototype Model, LOG-LINEAR')\n",
    "table.covariate_order([*X.columns])\n",
    "table"
   ]
  },
  {
   "cell_type": "code",
   "execution_count": 30,
   "id": "b29cd271",
   "metadata": {},
   "outputs": [],
   "source": [
    "# Repeat of previous models, but only look at people with wages\n",
    "subset = df[df[\"incwage\"] > 0]\n",
    "\n",
    "y = np.log(subset[\"incwage\"])\n",
    "X = pd.get_dummies(subset[\"educstr\"]).drop(\"HS Diploma/GED\",axis=1)"
   ]
  },
  {
   "cell_type": "code",
   "execution_count": 31,
   "id": "eebec6e7",
   "metadata": {},
   "outputs": [],
   "source": [
    "#Controls for subset\n",
    "controls1 = [\"race\",\"age\",\"sex\",\"empstat\",\"citizen\",\"famsize\"]\n",
    "c1 = pd.get_dummies(subset[controls1],columns=[\"race\",\"empstat\",\"citizen\"],drop_first=True)\n",
    "                    \n",
    "\n",
    "c2 = pd.get_dummies(subset[\"statefip\"],drop_first=True)\n",
    "c2 = c2.add_prefix('statefip_')\n",
    "                    \n",
    "c1_int = c1.drop([\"age\",\"sex\",\"famsize\"],axis=1).copy()\n",
    "for col in c1_int.columns:\n",
    "    c1_int.loc[:,col+\"_sex\"] = c1_int[col]*c1[\"sex\"]\n",
    "    c1_int.drop(col,axis=1,inplace=True)"
   ]
  },
  {
   "cell_type": "code",
   "execution_count": 32,
   "id": "ae98585f",
   "metadata": {},
   "outputs": [
    {
     "name": "stderr",
     "output_type": "stream",
     "text": [
      "C:\\Users\\prach\\AppData\\Local\\Temp/ipykernel_11160/4291111595.py:2: SettingWithCopyWarning: \n",
      "A value is trying to be set on a copy of a slice from a DataFrame.\n",
      "Try using .loc[row_indexer,col_indexer] = value instead\n",
      "\n",
      "See the caveats in the documentation: https://pandas.pydata.org/pandas-docs/stable/user_guide/indexing.html#returning-a-view-versus-a-copy\n",
      "  subset[\"time_trend\"] = subset[\"year\"] - min(subset.year)      #t\n",
      "C:\\Users\\prach\\AppData\\Local\\Temp/ipykernel_11160/4291111595.py:3: SettingWithCopyWarning: \n",
      "A value is trying to be set on a copy of a slice from a DataFrame.\n",
      "Try using .loc[row_indexer,col_indexer] = value instead\n",
      "\n",
      "See the caveats in the documentation: https://pandas.pydata.org/pandas-docs/stable/user_guide/indexing.html#returning-a-view-versus-a-copy\n",
      "  subset[\"time_trend_squared\"] = subset[\"time_trend\"]**2  #t^2\n"
     ]
    }
   ],
   "source": [
    "#Time Trend\n",
    "subset[\"time_trend\"] = subset[\"year\"] - min(subset.year)      #t\n",
    "subset[\"time_trend_squared\"] = subset[\"time_trend\"]**2  #t^2\n",
    "\n",
    "t = subset[[\"time_trend\", \"time_trend_squared\"]]"
   ]
  },
  {
   "cell_type": "code",
   "execution_count": 33,
   "id": "1f478fdd",
   "metadata": {},
   "outputs": [
    {
     "name": "stderr",
     "output_type": "stream",
     "text": [
      "C:\\ProgramData\\Anaconda3\\lib\\site-packages\\statsmodels\\tsa\\tsatools.py:142: FutureWarning: In a future version of pandas all arguments of concat except for the argument 'objs' will be keyword-only\n",
      "  x = pd.concat(x[::order], 1)\n"
     ]
    }
   ],
   "source": [
    "# Fit models\n",
    "ols1 = sm.OLS(y,sm.add_constant(X)).fit()"
   ]
  },
  {
   "cell_type": "code",
   "execution_count": 34,
   "id": "e1bd9bac",
   "metadata": {},
   "outputs": [],
   "source": [
    "ols2 = sm.OLS(y,sm.add_constant(pd.concat([X, c1], axis=1))).fit()"
   ]
  },
  {
   "cell_type": "code",
   "execution_count": 35,
   "id": "95092e7b",
   "metadata": {},
   "outputs": [],
   "source": [
    "ols3 = sm.OLS(y,sm.add_constant(pd.concat([X, c1, c2], axis=1))).fit()"
   ]
  },
  {
   "cell_type": "code",
   "execution_count": 36,
   "id": "d330a2ff",
   "metadata": {},
   "outputs": [],
   "source": [
    "ols4 = sm.OLS(y,sm.add_constant(pd.concat([X, c1, c2, t], axis=1))).fit()"
   ]
  },
  {
   "cell_type": "code",
   "execution_count": 37,
   "id": "05acfdef",
   "metadata": {},
   "outputs": [],
   "source": [
    "ols5 = sm.OLS(y,sm.add_constant(pd.concat([X, c1, c2, t, c1_int], axis=1))).fit()"
   ]
  },
  {
   "cell_type": "code",
   "execution_count": 38,
   "id": "448b6640",
   "metadata": {},
   "outputs": [
    {
     "data": {
      "text/html": [
       "Prototype Model, Data subset: incwage > 0, LOG-LINEAR<br><table style=\"text-align:center\"><tr><td colspan=\"6\" style=\"border-bottom: 1px solid black\"></td></tr><tr><td style=\"text-align:left\"></td><td colspan=\"5\"><em>Dependent variable:incwage</em></td></tr><tr><td style=\"text-align:left\"></td><tr><td style=\"text-align:left\"></td><td>(1)</td><td>(2)</td><td>(3)</td><td>(4)</td><td>(5)</td></tr><tr><td colspan=\"6\" style=\"border-bottom: 1px solid black\"></td></tr><tr><td style=\"text-align:left\">Advanced</td><td>1.040<sup>***</sup></td><td>0.876<sup>***</sup></td><td>0.855<sup>***</sup></td><td>0.847<sup>***</sup></td><td>0.847<sup>***</sup></td></tr><tr><td style=\"text-align:left\"></td><td>(0.002)</td><td>(0.002)</td><td>(0.002)</td><td>(0.002)</td><td>(0.002)</td></tr><tr><td style=\"text-align:left\">Associates</td><td>0.342<sup>***</sup></td><td>0.291<sup>***</sup></td><td>0.289<sup>***</sup></td><td>0.283<sup>***</sup></td><td>0.283<sup>***</sup></td></tr><tr><td style=\"text-align:left\"></td><td>(0.002)</td><td>(0.002)</td><td>(0.002)</td><td>(0.002)</td><td>(0.002)</td></tr><tr><td style=\"text-align:left\">Bachelors</td><td>0.652<sup>***</sup></td><td>0.587<sup>***</sup></td><td>0.572<sup>***</sup></td><td>0.565<sup>***</sup></td><td>0.565<sup>***</sup></td></tr><tr><td style=\"text-align:left\"></td><td>(0.002)</td><td>(0.001)</td><td>(0.001)</td><td>(0.001)</td><td>(0.001)</td></tr><td colspan=\"6\" style=\"border-bottom: 1px solid black\"></td></tr><tr><td style=\"text-align: left\">Observations</td><td>3,189,330</td><td>3,189,330</td><td>3,189,330</td><td>3,189,330</td><td>3,189,330</td></tr><tr><td style=\"text-align: left\">R<sup>2</sup></td><td>0.110</td><td>0.321</td><td>0.327</td><td>0.330</td><td>0.331</td></tr><tr><td style=\"text-align: left\">Adjusted R<sup>2</sup></td><td>0.110</td><td>0.321</td><td>0.327</td><td>0.330</td><td>0.331</td></tr><tr><td style=\"text-align: left\">Residual Std. Error</td><td>1.096 (df=3189326)</td><td>0.957 (df=3189310)</td><td>0.953 (df=3189260)</td><td>0.951 (df=3189258)</td><td>0.950 (df=3189245)</td></tr><tr><td style=\"text-align: left\">F Statistic</td><td>131645.023<sup>***</sup> (df=3; 3189326)</td><td>79526.498<sup>***</sup> (df=19; 3189310)</td><td>22425.046<sup>***</sup> (df=69; 3189260)</td><td>22118.055<sup>***</sup> (df=71; 3189258)</td><td>18817.690<sup>***</sup> (df=84; 3189245)</td></tr><tr><td colspan=\"6\" style=\"border-bottom: 1px solid black\"></td></tr><tr><td style=\"text-align: left\">Note:</td>\n",
       " <td colspan=\"5\" style=\"text-align: right\">\n",
       "  <sup>*</sup>p&lt;0.1;\n",
       "  <sup>**</sup>p&lt;0.05;\n",
       "  <sup>***</sup>p&lt;0.01\n",
       " </td></tr></table>"
      ],
      "text/plain": [
       "<stargazer.stargazer.Stargazer at 0x2b6bf560130>"
      ]
     },
     "execution_count": 38,
     "metadata": {},
     "output_type": "execute_result"
    }
   ],
   "source": [
    "models = [ols1,ols2,ols3,ols4,ols5]\n",
    "\n",
    "table = Stargazer(models)\n",
    "table.title('Prototype Model, Data subset: incwage > 0, LOG-LINEAR')\n",
    "table.covariate_order([*X.columns])\n",
    "table"
   ]
  },
  {
   "cell_type": "markdown",
   "id": "0660ecb7",
   "metadata": {},
   "source": [
    "Subsetting for people with income, the degree effect is lowered.\n",
    "\n",
    "As seen in the Observations section of the table, 800k out of 4mil were dropped because of no income. This is an important step and side effect to mention."
   ]
  },
  {
   "cell_type": "code",
   "execution_count": null,
   "id": "e2d23655",
   "metadata": {},
   "outputs": [],
   "source": []
  },
  {
   "cell_type": "code",
   "execution_count": null,
   "id": "6a440d17",
   "metadata": {},
   "outputs": [],
   "source": []
  },
  {
   "cell_type": "code",
   "execution_count": null,
   "id": "d4dc9b08",
   "metadata": {},
   "outputs": [],
   "source": []
  }
 ],
 "metadata": {
  "kernelspec": {
   "display_name": "Python 3 (ipykernel)",
   "language": "python",
   "name": "python3"
  },
  "language_info": {
   "codemirror_mode": {
    "name": "ipython",
    "version": 3
   },
   "file_extension": ".py",
   "mimetype": "text/x-python",
   "name": "python",
   "nbconvert_exporter": "python",
   "pygments_lexer": "ipython3",
   "version": "3.10.9"
  }
 },
 "nbformat": 4,
 "nbformat_minor": 5
}
